{
 "cells": [
  {
   "cell_type": "code",
   "execution_count": null,
   "id": "f53289d9",
   "metadata": {
    "vscode": {
     "languageId": "plaintext"
    }
   },
   "outputs": [],
   "source": [
    "import scipy.io\n",
    "import pandas as pd\n",
    "\n",
    "# Load the .mat file\n",
    "mat_data = scipy.io.loadmat('NLS.mat')\n",
    "\n",
    "# Display keys to understand structure\n",
    "print(mat_data.keys())\n",
    "\n",
    "# Suppose the variable you want is under key 'data'\n",
    "data = mat_data['data']\n",
    "\n",
    "# Convert to DataFrame (assuming 2D array or tabular data)\n",
    "df = pd.DataFrame(data)\n",
    "\n",
    "# Export to CSV\n",
    "df.to_csv('output.csv', index=False)\n"
   ]
  }
 ],
 "metadata": {
  "language_info": {
   "name": "python"
  }
 },
 "nbformat": 4,
 "nbformat_minor": 5
}
